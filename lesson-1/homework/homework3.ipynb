{
 "cells": [
  {
   "cell_type": "code",
   "execution_count": 3,
   "id": "7ee2125c",
   "metadata": {},
   "outputs": [
    {
     "name": "stdout",
     "output_type": "stream",
     "text": [
      "The third fruit is: kiwi\n"
     ]
    }
   ],
   "source": [
    "fruits = ['banana', 'apple', 'kiwi', 'watermelon', 'date']\n",
    "\n",
    "print(\"The third fruit is:\", fruits[2])"
   ]
  },
  {
   "cell_type": "code",
   "execution_count": 4,
   "id": "c3fea543",
   "metadata": {},
   "outputs": [
    {
     "name": "stdout",
     "output_type": "stream",
     "text": [
      "Combined list: [1, 2, 3, 4, 5, 6]\n"
     ]
    }
   ],
   "source": [
    "list1 = [1, 2, 3]\n",
    "list2 = [4, 5, 6]\n",
    "\n",
    "combined_list = list1 + list2\n",
    "\n",
    "print(\"Combined list:\", combined_list)"
   ]
  },
  {
   "cell_type": "code",
   "execution_count": 5,
   "id": "a2d31fe1",
   "metadata": {},
   "outputs": [
    {
     "name": "stdout",
     "output_type": "stream",
     "text": [
      "New list with first, middle, last: [10, 40, 70]\n"
     ]
    }
   ],
   "source": [
    "numbers = [10, 20, 30, 40, 50, 60, 70]\n",
    "\n",
    "first = numbers[0]\n",
    "middle = numbers[len(numbers) // 2]\n",
    "last = numbers[-1]\n",
    "\n",
    "new_list = [first, middle, last]\n",
    "\n",
    "print(\"New list with first, middle, last:\", new_list)"
   ]
  },
  {
   "cell_type": "code",
   "execution_count": 6,
   "id": "87c892af",
   "metadata": {},
   "outputs": [
    {
     "name": "stdout",
     "output_type": "stream",
     "text": [
      "Movies tuple: ('Inception', 'The Matrix', 'Interstellar', 'Godfather', 'The Dark Knight')\n"
     ]
    }
   ],
   "source": [
    "favorite_movies = [\"Inception\", \"The Matrix\", \"Interstellar\", \"Godfather\", \"The Dark Knight\"]\n",
    "\n",
    "movies_tuple = tuple(favorite_movies)\n",
    "\n",
    "print(\"Movies tuple:\", movies_tuple)"
   ]
  },
  {
   "cell_type": "code",
   "execution_count": 7,
   "id": "c19c838e",
   "metadata": {},
   "outputs": [
    {
     "name": "stdout",
     "output_type": "stream",
     "text": [
      "Paris is in the list\n"
     ]
    }
   ],
   "source": [
    "cities = ['London', 'New York', 'Tokyo', 'Paris', 'Sydney']\n",
    "\n",
    "if 'Paris' in cities:\n",
    "    print(\"Paris is in the list\")\n",
    "\n",
    "else:\n",
    "    print(\"Paris is not in the list\")"
   ]
  },
  {
   "cell_type": "code",
   "execution_count": 8,
   "id": "f1a01a81",
   "metadata": {},
   "outputs": [
    {
     "name": "stdout",
     "output_type": "stream",
     "text": [
      "Original_list: [1, 2, 3, 4, 5]\n",
      "Duplicate_list: [1, 2, 3, 4, 5, 1, 2, 3, 4, 5]\n"
     ]
    }
   ],
   "source": [
    "numbers = [1, 2, 3, 4, 5]\n",
    "\n",
    "duplicate_numbers = numbers * 2\n",
    "\n",
    "print(\"Original_list:\", numbers)\n",
    "print(\"Duplicate_list:\", duplicate_numbers)"
   ]
  },
  {
   "cell_type": "code",
   "execution_count": null,
   "id": "f96e922b",
   "metadata": {},
   "outputs": [],
   "source": []
  },
  {
   "cell_type": "code",
   "execution_count": 9,
   "id": "153a1c2b",
   "metadata": {},
   "outputs": [
    {
     "name": "stdout",
     "output_type": "stream",
     "text": [
      "(4, 5, 6, 7)\n"
     ]
    }
   ],
   "source": [
    "numbers = (1,2,3,4,5,6,7,8,9,10)\n",
    "\n",
    "sliced = numbers[3:7]\n",
    "\n",
    "print(sliced)"
   ]
  },
  {
   "cell_type": "code",
   "execution_count": 10,
   "id": "538e5fde",
   "metadata": {},
   "outputs": [
    {
     "name": "stdout",
     "output_type": "stream",
     "text": [
      "The color 'blue' appears 3 times in the list\n"
     ]
    }
   ],
   "source": [
    "colors = ['red', 'blue', 'green', 'blue', 'yellow', 'blue']\n",
    "\n",
    "blue_count = colors.count('blue')\n",
    "\n",
    "print(\"The color 'blue' appears\", blue_count, \"times in the list\")"
   ]
  },
  {
   "cell_type": "code",
   "execution_count": 11,
   "id": "2014a811",
   "metadata": {},
   "outputs": [
    {
     "name": "stdout",
     "output_type": "stream",
     "text": [
      "The index of 'lion' is: 2\n"
     ]
    }
   ],
   "source": [
    "animals = ('cat', 'dog', 'lion', 'tiger', 'elephant')\n",
    "\n",
    "lion_index = animals.index('lion')\n",
    "\n",
    "print(\"The index of 'lion' is:\", lion_index)"
   ]
  },
  {
   "cell_type": "code",
   "execution_count": 12,
   "id": "7e970a17",
   "metadata": {},
   "outputs": [
    {
     "name": "stdout",
     "output_type": "stream",
     "text": [
      "Merged tuple: (1, 2, 3, 4, 5, 6)\n"
     ]
    }
   ],
   "source": [
    "tuple1 = (1,2,3)\n",
    "tuple2 = (4,5,6)\n",
    "\n",
    "merged_tuple = tuple1 + tuple2\n",
    "print(\"Merged tuple:\", merged_tuple)"
   ]
  },
  {
   "cell_type": "code",
   "execution_count": 13,
   "id": "bf1e0350",
   "metadata": {},
   "outputs": [
    {
     "name": "stdout",
     "output_type": "stream",
     "text": [
      "Length of the list: 5\n",
      "Length of the tuple: 5\n"
     ]
    }
   ],
   "source": [
    "my_list = [10,20,30,40,50]\n",
    "my_tuple = (100, 200, 300, 400, 500)\n",
    "list_length = len(my_list)\n",
    "tuple_length = len(my_tuple)\n",
    "\n",
    "print(\"Length of the list:\", list_length)\n",
    "print(\"Length of the tuple:\", tuple_length)"
   ]
  },
  {
   "cell_type": "code",
   "execution_count": 14,
   "id": "ab24f9e7",
   "metadata": {},
   "outputs": [
    {
     "name": "stdout",
     "output_type": "stream",
     "text": [
      "Original tuple: (5, 10, 15, 20, 25)\n",
      "Converted list: [5, 10, 15, 20, 25]\n"
     ]
    }
   ],
   "source": [
    "my_tuple = (5, 10, 15, 20, 25)\n",
    "\n",
    "my_list = list(my_tuple)\n",
    "\n",
    "print(\"Original tuple:\", my_tuple)\n",
    "print(\"Converted list:\", my_list)"
   ]
  },
  {
   "cell_type": "code",
   "execution_count": 15,
   "id": "f45539d8",
   "metadata": {},
   "outputs": [
    {
     "name": "stdout",
     "output_type": "stream",
     "text": [
      "Maximum value: 89\n",
      "Minimum value: 3\n"
     ]
    }
   ],
   "source": [
    "numbers = (12, 45, 3, 89, 24, 7)\n",
    "\n",
    "max_value = max(numbers)\n",
    "min_value = min(numbers)\n",
    "\n",
    "print(\"Maximum value:\", max_value)\n",
    "print(\"Minimum value:\", min_value)"
   ]
  },
  {
   "cell_type": "code",
   "execution_count": 16,
   "id": "4f630ee4",
   "metadata": {},
   "outputs": [
    {
     "name": "stdout",
     "output_type": "stream",
     "text": [
      "Reversed tuple: ('elderberry', 'date', 'cherry', 'banana', 'apple')\n"
     ]
    }
   ],
   "source": [
    "words = ('apple', 'banana', 'cherry', 'date', 'elderberry')\n",
    "\n",
    "reversed_words = words[::-1]\n",
    "\n",
    "print(\"Reversed tuple:\", reversed_words)"
   ]
  }
 ],
 "metadata": {
  "kernelspec": {
   "display_name": "Python 3",
   "language": "python",
   "name": "python3"
  },
  "language_info": {
   "codemirror_mode": {
    "name": "ipython",
    "version": 3
   },
   "file_extension": ".py",
   "mimetype": "text/x-python",
   "name": "python",
   "nbconvert_exporter": "python",
   "pygments_lexer": "ipython3",
   "version": "3.13.3"
  }
 },
 "nbformat": 4,
 "nbformat_minor": 5
}
